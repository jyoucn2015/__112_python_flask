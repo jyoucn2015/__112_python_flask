{
 "cells": [
  {
   "cell_type": "code",
   "execution_count": null,
   "metadata": {},
   "outputs": [],
   "source": [
    "import requests\n",
    "import pandas as pd\n",
    "import streamlit as st\n",
    "\n",
    "# 下載 youbike 資料\n",
    "url = 'https://tcgbusfs.blob.core.windows.net/dotapp/youbike/v2/youbike_immediate.json'\n",
    "response = requests.request('GET',url)\n",
    "if response.status_code == 200:\n",
    "    print(\"連線成功\")\n",
    "    all_data = response.json()\n",
    "    print(type(all_data))\n",
    "else:\n",
    "    print(f\"連線失敗:{response.status_code}\")\n"
   ]
  },
  {
   "cell_type": "code",
   "execution_count": null,
   "metadata": {},
   "outputs": [],
   "source": [
    "# 將 youbike 資料轉成 dataFrame\n",
    "dataFrame = pd.DataFrame(data=all_data,columns=['sna','tot','sbi','sarea','mday','ar','bemp','act'])\n",
    "dataFrame"
   ]
  },
  {
   "cell_type": "code",
   "execution_count": null,
   "metadata": {},
   "outputs": [],
   "source": [
    "# 更改欄位名稱(全部更改)\n",
    "dataFrame.columns = [\"站點名稱\",\"總數\",\"可借\",\"行政區\",\"時間\",\"地址\",\"可還\",\"狀態\"]\n",
    "dataFrame"
   ]
  },
  {
   "cell_type": "code",
   "execution_count": null,
   "metadata": {},
   "outputs": [],
   "source": [
    "dataFrame1 = dataFrame.set_index(\"站點名稱\")\n",
    "dataFrame1"
   ]
  },
  {
   "cell_type": "code",
   "execution_count": null,
   "metadata": {},
   "outputs": [],
   "source": [
    "dataFrame1['行政區'].drop_duplicates()"
   ]
  },
  {
   "cell_type": "code",
   "execution_count": null,
   "metadata": {},
   "outputs": [],
   "source": [
    "# 2023/06/03 的寫法\n",
    "#group_data = dataFrame.groupby('行政區').sum()\n",
    "#areas = group_data.index.to_numpy().tolist()\n",
    "# 2023/06/10 的寫法\n",
    "areas = dataFrame1['行政區'].unique()\n",
    "\n",
    "min,max = st.slider(\n",
    "    '請選擇可借的數量範圍',\n",
    "    0, 100, (5, 20))\n",
    "mask = ( dataFrame1['可借'] <= max ) & ( dataFrame1['可借'] >= min )\n",
    "mask_dataFrame = dataFrame1[mask]\n",
    "count = mask_dataFrame[\"總數\"].count()\n",
    "st.write(\"符合條件的站點數:\",count)\n",
    "st.dataframe(mask_dataFrame)\n",
    "\n",
    "option = st.selectbox(\n",
    "    '行政區域',\n",
    "    (areas\n",
    "     ))\n",
    "\n",
    "st.write('You selected:', option)"
   ]
  }
 ],
 "metadata": {
  "kernelspec": {
   "display_name": "Python 3",
   "language": "python",
   "name": "python3"
  },
  "language_info": {
   "codemirror_mode": {
    "name": "ipython",
    "version": 3
   },
   "file_extension": ".py",
   "mimetype": "text/x-python",
   "name": "python",
   "nbconvert_exporter": "python",
   "pygments_lexer": "ipython3",
   "version": "3.9.17"
  },
  "orig_nbformat": 4
 },
 "nbformat": 4,
 "nbformat_minor": 2
}
