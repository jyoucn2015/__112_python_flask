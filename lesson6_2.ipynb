{
 "cells": [
  {
   "cell_type": "code",
   "execution_count": null,
   "metadata": {},
   "outputs": [],
   "source": [
    "# 處理 csv 檔\n",
    "import csv\n",
    "#file = open('個股日成交資訊.csv',encoding='utf-8',newline='')\n",
    "#file.close()\n",
    "\n",
    "with open('個股日成交資訊.csv',encoding='utf-8',newline='') as file:\n",
    "    csv_reader = csv.DictReader(file)\n",
    "    csv_list = list(csv_reader)\n",
    "    #print(csv_list)\n",
    "\n",
    "for item_dict in csv_list:\n",
    "    #if item_dict['證券名稱'] == '富邦科技':\n",
    "    #    print(item_dict)\n",
    "    if \"富邦\" in item_dict['證券名稱']:\n",
    "        print(item_dict)\n"
   ]
  }
 ],
 "metadata": {
  "kernelspec": {
   "display_name": "Python 3",
   "language": "python",
   "name": "python3"
  },
  "language_info": {
   "codemirror_mode": {
    "name": "ipython",
    "version": 3
   },
   "file_extension": ".py",
   "mimetype": "text/x-python",
   "name": "python",
   "nbconvert_exporter": "python",
   "pygments_lexer": "ipython3",
   "version": "3.9.16"
  },
  "orig_nbformat": 4
 },
 "nbformat": 4,
 "nbformat_minor": 2
}
