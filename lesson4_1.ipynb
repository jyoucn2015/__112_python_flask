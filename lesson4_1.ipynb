{
 "cells": [
  {
   "cell_type": "code",
   "execution_count": null,
   "metadata": {},
   "outputs": [],
   "source": [
    "#小明想要存錢買一輛機車，機車每輛30,000元，他將每月存的錢輸入，當存款足夠買機車時，就顯示提示訊息告知\n",
    "\n",
    "deposit = 0\n",
    "num = 0\n",
    "\n",
    "while (deposit < 30000):\n",
    "    num += 1\n",
    "    input_value = int(input(f\"請輸入第{num}月份的存款：\"))\n",
    "    deposit += input_value\n",
    "    #print(deposit)\n",
    "\n",
    "print(f\"總共存了{num}個月，總金額{deposit}\")"
   ]
  },
  {
   "cell_type": "code",
   "execution_count": null,
   "metadata": {},
   "outputs": [],
   "source": [
    "deposit = 0\n",
    "num = 0\n",
    "\n",
    "while (True):\n",
    "    num += 1\n",
    "    input_value = int(input(f\"請輸入第{num}月份的存款：\"))\n",
    "    deposit += input_value\n",
    "    if (deposit >= 30000):\n",
    "        break\n",
    "    #print(deposit)\n",
    "\n",
    "print(f\"總共存了{num}個月，總金額{deposit}\")"
   ]
  },
  {
   "cell_type": "code",
   "execution_count": 10,
   "metadata": {},
   "outputs": [
    {
     "name": "stdout",
     "output_type": "stream",
     "text": [
      "所有輸入的正偶數加總是:30\n"
     ]
    }
   ],
   "source": [
    "#請設計一個程式，讓使用者輸入數值，只有加總正偶數值，不加總奇數值，如果輸入負數，結束程式\n",
    "\n",
    "num = 0\n",
    "sum = 0\n",
    "\n",
    "while True:\n",
    "    num += 1\n",
    "    input_num = int(input(f\"請輸入第{num}個數值:\"))\n",
    "    if input_num < 0:\n",
    "        break\n",
    "    elif input_num % 2 == 1:\n",
    "        continue\n",
    "    sum += input_num\n",
    "\n",
    "print(f\"所有輸入的正偶數加總是:{sum}\")"
   ]
  }
 ],
 "metadata": {
  "kernelspec": {
   "display_name": "Python 3",
   "language": "python",
   "name": "python3"
  },
  "language_info": {
   "codemirror_mode": {
    "name": "ipython",
    "version": 3
   },
   "file_extension": ".py",
   "mimetype": "text/x-python",
   "name": "python",
   "nbconvert_exporter": "python",
   "pygments_lexer": "ipython3",
   "version": "3.9.16"
  },
  "orig_nbformat": 4
 },
 "nbformat": 4,
 "nbformat_minor": 2
}
