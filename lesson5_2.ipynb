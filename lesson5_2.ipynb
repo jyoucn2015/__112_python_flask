{
 "cells": [
  {
   "cell_type": "code",
   "execution_count": null,
   "metadata": {},
   "outputs": [],
   "source": [
    "# 撰寫一個大樂透電腦自動選號程式，程式執行會以亂數的方式顯示1-49之間七個不重複的大樂透號碼\n",
    "\n",
    "import random\n",
    "\n",
    "for _ in range(7):\n",
    "    print(random.randint(1,49))"
   ]
  },
  {
   "cell_type": "code",
   "execution_count": null,
   "metadata": {},
   "outputs": [],
   "source": [
    "loto = set()\n",
    "while(len(loto) < 7):\n",
    "    loto.add(random.randint(1,49))\n",
    "\n",
    "#print(sorted(loto))\n",
    "#print(loto)\n",
    "\n",
    "sort_loto = sorted(loto)\n",
    "for item in sort_loto:\n",
    "    print(item,end=\" \")\n",
    "print(\"\")"
   ]
  }
 ],
 "metadata": {
  "kernelspec": {
   "display_name": "Python 3",
   "language": "python",
   "name": "python3"
  },
  "language_info": {
   "codemirror_mode": {
    "name": "ipython",
    "version": 3
   },
   "file_extension": ".py",
   "mimetype": "text/x-python",
   "name": "python",
   "nbconvert_exporter": "python",
   "pygments_lexer": "ipython3",
   "version": "3.9.16"
  },
  "orig_nbformat": 4
 },
 "nbformat": 4,
 "nbformat_minor": 2
}
