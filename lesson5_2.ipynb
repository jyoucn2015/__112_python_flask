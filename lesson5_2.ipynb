{
 "cells": [
  {
   "cell_type": "code",
   "execution_count": null,
   "metadata": {},
   "outputs": [],
   "source": [
    "# 撰寫一個大樂透電腦自動選號程式，程式執行會以亂數的方式顯示1-49之間七個不重複的大樂透號碼\n",
    "\n",
    "import random\n",
    "\n",
    "for _ in range(7):\n",
    "    print(random.randint(1,49))"
   ]
  },
  {
   "cell_type": "code",
   "execution_count": 2,
   "metadata": {},
   "outputs": [
    {
     "ename": "TypeError",
     "evalue": "descriptor 'add' for 'set' objects doesn't apply to a 'int' object",
     "output_type": "error",
     "traceback": [
      "\u001b[0;31m---------------------------------------------------------------------------\u001b[0m",
      "\u001b[0;31mTypeError\u001b[0m                                 Traceback (most recent call last)",
      "Cell \u001b[0;32mIn[2], line 3\u001b[0m\n\u001b[1;32m      1\u001b[0m loto \u001b[39m=\u001b[39m \u001b[39mset\u001b[39m()\n\u001b[1;32m      2\u001b[0m \u001b[39mwhile\u001b[39;00m(\u001b[39mlen\u001b[39m(loto) \u001b[39m<\u001b[39m \u001b[39m7\u001b[39m):\n\u001b[0;32m----> 3\u001b[0m     \u001b[39mset\u001b[39;49m\u001b[39m.\u001b[39;49madd(random\u001b[39m.\u001b[39;49mrandint(\u001b[39m1\u001b[39;49m,\u001b[39m49\u001b[39;49m))\n\u001b[1;32m      5\u001b[0m \u001b[39mprint\u001b[39m(loto)\n",
      "\u001b[0;31mTypeError\u001b[0m: descriptor 'add' for 'set' objects doesn't apply to a 'int' object"
     ]
    }
   ],
   "source": [
    "loto = set()\n",
    "while(len(loto) < 7):\n",
    "    set.add(random.randint(1,49))\n",
    "\n",
    "print(loto)"
   ]
  }
 ],
 "metadata": {
  "kernelspec": {
   "display_name": "Python 3",
   "language": "python",
   "name": "python3"
  },
  "language_info": {
   "codemirror_mode": {
    "name": "ipython",
    "version": 3
   },
   "file_extension": ".py",
   "mimetype": "text/x-python",
   "name": "python",
   "nbconvert_exporter": "python",
   "pygments_lexer": "ipython3",
   "version": "3.9.16"
  },
  "orig_nbformat": 4
 },
 "nbformat": 4,
 "nbformat_minor": 2
}
